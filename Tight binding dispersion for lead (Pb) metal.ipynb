{
 "cells": [
  {
   "cell_type": "code",
   "execution_count": 2,
   "metadata": {},
   "outputs": [],
   "source": [
    "import numpy as np\n",
    "\n",
    "k_points =  np.loadtxt(\"lead_kband.dat\",  dtype = float, usecols = (0,1,2))\n",
    "a_points =  np.loadtxt(\"a_points_tb.dat\", dtype = float, usecols = (0,1,2))\n",
    "t        =  np.array([0.654068,0.262586, 0.400446, 0.426529, 0.353707])\n",
    "N        =  np.array([1,1,1,3,3])\n",
    "\n",
    "\n",
    "E0       = 7.844960\n",
    "wght     = 1 / N\n",
    "a        = a_points\n",
    "k        = 2*np.pi*k_points\n",
    "print(np.size(k[:,0]))\n",
    "print(a[20])\n",
    "E_points = []\n",
    "\n",
    "for i in np.arange(0,np.size(k[:,0])):\n",
    "    E1_k = 2*wght[0]*t[0]*(np.cos(np.dot(k[i],a[0]))+ np.cos(np.dot(k[i],a[1]))+np.cos(np.dot(k[i],a[2])))\n",
    "\n",
    "    E2_k = 2*wght[1]*t[1]*(np.cos(np.dot(k[i],a[3]))+ np.cos(np.dot(k[i],a[4]))+np.cos(np.dot(k[i],a[5])))\n",
    "\n",
    "    E3_k = 2*wght[2]*t[2]*(np.cos(np.dot(k[i],a[6]))+ np.cos(np.dot(k[i],a[7]))+np.cos(np.dot(k[i],a[8])))\n",
    "\n",
    "    E4_k = 2*wght[3]*t[3]*(np.cos(np.dot(k[i],a[9]))+ np.cos(np.dot(k[i],a[10]))+np.cos(np.dot(k[i],a[11])) +                np.cos(np.dot(k[i],a[12]))+ np.cos(np.dot(k[i],a[13]))+np.cos(np.dot(k[i],a[14])) +                np.cos(np.dot(k[i],a[15]))+ np.cos(np.dot(k[i],a[16]))+np.cos(np.dot(k[i],a[17])))\n",
    "\n",
    "    E5_k = 2*wght[4]*t[4]*(np.cos(np.dot(k[i],a[18]))+ np.cos(np.dot(k[i],a[19]))+np.cos(np.dot(k[i],a[20])))\n",
    "    \n",
    "    E = E0 + E1_k + E2_k + E3_k + E4_k + E5_k\n",
    "    \n",
    "    E_points.append(E)\n",
    "    \n",
    "k_plot   =  np.loadtxt(\"lead_band.dat\", dtype = float, usecols = 0)\n",
    "\n",
    "E_band = np.column_stack((k_plot,E_points))\n",
    "    \n",
    "#print(E_points)\n",
    "np.savetxt(\"Eband_tb.dat\", E_band, fmt = (\"%10.6f\", \"%10.6f\"))\n"
   ]
  }
 ],
 "metadata": {
  "kernelspec": {
   "display_name": "Python 3",
   "language": "python",
   "name": "python3"
  },
  "language_info": {
   "codemirror_mode": {
    "name": "ipython",
    "version": 3
   },
   "file_extension": ".py",
   "mimetype": "text/x-python",
   "name": "python",
   "nbconvert_exporter": "python",
   "pygments_lexer": "ipython3",
   "version": "3.8.5"
  }
 },
 "nbformat": 4,
 "nbformat_minor": 4
}
